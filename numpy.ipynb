{
  "nbformat": 4,
  "nbformat_minor": 0,
  "metadata": {
    "colab": {
      "provenance": [],
      "authorship_tag": "ABX9TyNleFpD5vT7Ab9lZRC9ft3O",
      "include_colab_link": true
    },
    "kernelspec": {
      "name": "python3",
      "display_name": "Python 3"
    },
    "language_info": {
      "name": "python"
    }
  },
  "cells": [
    {
      "cell_type": "markdown",
      "metadata": {
        "id": "view-in-github",
        "colab_type": "text"
      },
      "source": [
        "<a href=\"https://colab.research.google.com/github/BhumikaGhodki/Data-science/blob/main/numpy.ipynb\" target=\"_parent\"><img src=\"https://colab.research.google.com/assets/colab-badge.svg\" alt=\"Open In Colab\"/></a>"
      ]
    },
    {
      "cell_type": "markdown",
      "source": [
        "#create a 0-D array with value 42\n",
        "\n",
        "import numpy as np\n",
        "\n",
        "arr = np.array(42)\n",
        "\n",
        "print(arr)"
      ],
      "metadata": {
        "id": "4Ty4PXfrNIam"
      }
    },
    {
      "cell_type": "markdown",
      "source": [
        "#create a 1-D array containing the value 1,2,3,4,5:\n",
        "\n",
        "import numpy as np\n",
        "\n",
        "arr = np.array([1,2,3,4,5])\n",
        "\n",
        "print(arr)"
      ],
      "metadata": {
        "id": "SFq7OSK-On3A"
      }
    },
    {
      "cell_type": "code",
      "source": [
        "#create 2-D array containing two arrays with the values 1,2,3 and 4,5,6\n",
        "import numpy as np\n",
        "arr = np.array([[1,2,3],[4,5,6]])\n",
        "print (arr)"
      ],
      "metadata": {
        "colab": {
          "base_uri": "https://localhost:8080/"
        },
        "id": "fKwWpSmqRQiO",
        "outputId": "42fb1f30-56c2-4b40-f4f3-45fcc4060462"
      },
      "execution_count": null,
      "outputs": [
        {
          "output_type": "stream",
          "name": "stdout",
          "text": [
            "[[1 2 3]\n",
            " [4 5 6]]\n"
          ]
        }
      ]
    },
    {
      "cell_type": "code",
      "source": [
        "#create a 3-D array with two 2-D arrays,both containing two array with the value 1,2,3 and 4,5,6\n",
        "import numpy as np\n",
        "arr = np. array([[[1,2,3],[4,5,6]],\n",
        " [[1,2,3],[4,5,6]]])\n",
        "print (arr)"
      ],
      "metadata": {
        "colab": {
          "base_uri": "https://localhost:8080/"
        },
        "id": "7Hy8_hWvRTjb",
        "outputId": "aa80ce6f-e936-4633-d4b1-168baf375dde"
      },
      "execution_count": null,
      "outputs": [
        {
          "output_type": "stream",
          "name": "stdout",
          "text": [
            "[[[1 2 3]\n",
            "  [4 5 6]]\n",
            "\n",
            " [[1 2 3]\n",
            "  [4 5 6]]]\n"
          ]
        }
      ]
    },
    {
      "cell_type": "code",
      "source": [
        "#check how many dimensions the arrays have\n",
        "import numpy as np\n",
        "\n",
        "a = np.array(42)\n",
        "b = np.array([1,2,3,4,5])\n",
        "c = np.array([[1,2,3],[4,5,6]])\n",
        "d = np.array([[[1,2,3],[4,5,6]],[[1,2,3],[4,5,6]]])\n",
        "\n",
        "print(a.ndim)\n",
        "print(b.ndim)\n",
        "print(c.ndim)\n",
        "print(d.ndim)"
      ],
      "metadata": {
        "colab": {
          "base_uri": "https://localhost:8080/"
        },
        "id": "Q48Cuy0-UUar",
        "outputId": "0f777e45-bd8f-4fe2-8d8b-9127fe6ffec5"
      },
      "execution_count": null,
      "outputs": [
        {
          "output_type": "stream",
          "name": "stdout",
          "text": [
            "0\n",
            "1\n",
            "2\n",
            "3\n"
          ]
        }
      ]
    },
    {
      "cell_type": "code",
      "source": [
        "#create an array with 5 dimensions and verify that it has 5 dimensions\n",
        "import numpy as np\n",
        "arr = np. array ([1,2,3,4],ndmin=5)\n",
        "print(arr)\n",
        "print('number if dimensions:', arr.ndim)\n"
      ],
      "metadata": {
        "colab": {
          "base_uri": "https://localhost:8080/"
        },
        "id": "QFwhM_DSZPQn",
        "outputId": "a8b24b6f-4721-406f-a6e3-e892c1133733"
      },
      "execution_count": null,
      "outputs": [
        {
          "output_type": "stream",
          "name": "stdout",
          "text": [
            "[[[[[1 2 3 4]]]]]\n",
            "number if dimensions: 5\n"
          ]
        }
      ]
    },
    {
      "cell_type": "code",
      "source": [
        "#access the element on the first row,second column\n",
        "import numpy as np\n",
        "arr = np.array ([[1,2,3,4,5],[6,7,8,9,10]])\n",
        "print('2nd element on 1st row' , arr[0,1])"
      ],
      "metadata": {
        "id": "xVGpZHDlbSd6",
        "colab": {
          "base_uri": "https://localhost:8080/"
        },
        "outputId": "d80b5e39-8ad5-4cf2-ecdb-e8b12e2f61c4"
      },
      "execution_count": null,
      "outputs": [
        {
          "output_type": "stream",
          "name": "stdout",
          "text": [
            "2nd element on 1st row 2\n"
          ]
        }
      ]
    },
    {
      "cell_type": "code",
      "source": [
        "#access the third element of the second array of the first array\n",
        "import numpy as np\n",
        "arr = np.array([[[1,2,3],[4,5,6]],[[7,8,9],[10,11,12]]])\n",
        "print(arr[0,1,2])"
      ],
      "metadata": {
        "colab": {
          "base_uri": "https://localhost:8080/"
        },
        "id": "-IaCBiLaS3rT",
        "outputId": "317e9476-796c-401b-dcef-2cabc7c7453b"
      },
      "execution_count": null,
      "outputs": [
        {
          "output_type": "stream",
          "name": "stdout",
          "text": [
            "6\n"
          ]
        }
      ]
    },
    {
      "cell_type": "code",
      "source": [
        "#print the last element from the 2nd dim\n",
        "import numpy as np\n",
        "arr = np.array([[1,2,3,4,5],[6,7,8,9,10]])\n",
        "print('last element from 2nd dim',arr[1,-1])\n"
      ],
      "metadata": {
        "colab": {
          "base_uri": "https://localhost:8080/"
        },
        "id": "sstJubPMUFwJ",
        "outputId": "64fdae3b-6e8c-428f-8e56-4364fef5d438"
      },
      "execution_count": null,
      "outputs": [
        {
          "output_type": "stream",
          "name": "stdout",
          "text": [
            "last element from 2nd dim 10\n"
          ]
        }
      ]
    },
    {
      "cell_type": "code",
      "source": [
        "#slice elements from index 1 to index 5 from the following array\n",
        "import numpy as np\n",
        "arr = np.array([1,2,3,4,5,6,7])\n",
        "print(arr[1:5])\n"
      ],
      "metadata": {
        "colab": {
          "base_uri": "https://localhost:8080/"
        },
        "id": "89InvbnZVy7o",
        "outputId": "1dcfce1d-ce28-452f-a2da-b8de7a026076"
      },
      "execution_count": null,
      "outputs": [
        {
          "output_type": "stream",
          "name": "stdout",
          "text": [
            "[2 3 4 5]\n"
          ]
        }
      ]
    },
    {
      "cell_type": "code",
      "source": [
        "#from the second element ,slice element from index 1 to 4 (not include)\n",
        "import numpy as np\n",
        "arr = np.array ([[1,2,3,4,5],[6,7,8,9,10]])\n",
        "print(arr[1, 1:4])\n"
      ],
      "metadata": {
        "colab": {
          "base_uri": "https://localhost:8080/"
        },
        "id": "uPUXILIDXFPA",
        "outputId": "ee793478-f742-4cbb-a087-017f466c1214"
      },
      "execution_count": null,
      "outputs": [
        {
          "output_type": "stream",
          "name": "stdout",
          "text": [
            "[7 8 9]\n"
          ]
        }
      ]
    },
    {
      "cell_type": "code",
      "source": [
        "#from both element return index 2;\n",
        "import numpy as np\n",
        "arr = np.array([[1,2,3,4,5],[6,7,8,9,10]])\n",
        "print(arr [0:2,2])"
      ],
      "metadata": {
        "colab": {
          "base_uri": "https://localhost:8080/"
        },
        "id": "a26pGV3gbLs5",
        "outputId": "0095f1da-5b69-4882-808f-18ad15c1c91c"
      },
      "execution_count": null,
      "outputs": [
        {
          "output_type": "stream",
          "name": "stdout",
          "text": [
            "[3 8]\n"
          ]
        }
      ]
    },
    {
      "cell_type": "code",
      "source": [
        "#from both element,slice index 4(not include),this will return a 2-D array\n",
        "import numpy as np\n",
        "arr = np.array([[1,2,3,4,5],[6,7,8,9,10]])\n",
        "print(arr[0:2,1:4])\n"
      ],
      "metadata": {
        "colab": {
          "base_uri": "https://localhost:8080/"
        },
        "id": "6CViIjSOcqSP",
        "outputId": "eddc65f9-12e7-4f9b-8498-b0b27a826f73"
      },
      "execution_count": null,
      "outputs": [
        {
          "output_type": "stream",
          "name": "stdout",
          "text": [
            "[[2 3 4]\n",
            " [7 8 9]]\n"
          ]
        }
      ]
    }
  ]
}